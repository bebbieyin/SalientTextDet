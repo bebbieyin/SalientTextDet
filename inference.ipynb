{
 "cells": [
  {
   "cell_type": "markdown",
   "metadata": {},
   "source": [
    "# Inference"
   ]
  },
  {
   "cell_type": "code",
   "execution_count": null,
   "metadata": {},
   "outputs": [],
   "source": [
    "import os\n",
    "os.chdir(\"/home/yinyin/salient_text_official\")\n",
    "\n",
    "from PIL import Image\n",
    "import matplotlib.pyplot as plt\n",
    "from torchvision import transforms\n",
    "\n",
    "from utils import load_config, load_checkpoint\n",
    "from modeling.model import build_salientText_model\n",
    "from modeling.optimizer import build_optimizer\n",
    "from modeling.scheduler import build_scheduler\n",
    "from modeling.data.generate_mask_bbox import LabelGeneration"
   ]
  },
  {
   "cell_type": "code",
   "execution_count": null,
   "metadata": {},
   "outputs": [],
   "source": [
    "trained_weights = f'./output/model_160.pt'\n",
    "config = load_config(f'./configs/ecom.yaml')\n",
    "device = 'cpu'\n",
    "\n",
    "model = build_salientText_model(backbone_cfg=config['MODEL']['BACKBONE_CFG'], input_size=config['INPUT']['SIZE'], device=device).to(device)\n",
    "optimizer = build_optimizer(config,model)\n",
    "scheduler = build_scheduler(config,optimizer,config['INPUT']['TRAIN_NUM_DATA'])\n",
    "\n",
    "model, optimizer, scheduler, start_epoch = load_checkpoint(trained_weights, model, optimizer, scheduler)"
   ]
  },
  {
   "cell_type": "code",
   "execution_count": null,
   "metadata": {},
   "outputs": [],
   "source": [
    "test_list  = [3, 6, 10, 23, 27, 30, 32, 36, 65, 71, 75, 97, 103, 105, 121, 124, 138, 191, 195, 205, 212, 215, 222, 225, 228, 235, 237, 239, 262, 273, 291, 297, 304, 311, 326, 341, 354, 389, 391, 400, 403, 427, 433, 444, 449, 457, 461, 471, 484, 492, 508, 512, 513, 518, 520, 541, 555, 567, 570, 583, 602, 604, 606, 623, 645, 658, 666, 668, 687, 694, 703, 713, 729, 739, 742, 744, 761, 780, 781, 783, 786, 808, 822, 850, 856, 858, 867, 868, 874, 881, 903, 915, 924, 925, 934, 942, 954, 963, 964, 968, 969]\n",
    "root_dir = r'/home/yinyin/salient_text/dataset/ECdata/'\n",
    "\n",
    "# load image and labels\n",
    "preprocess =transforms.Compose([\n",
    "    transforms.ToTensor(),\n",
    "    transforms.Resize(config['INPUT']['SIZE']),\n",
    "]) \n",
    "\n",
    "label = LabelGeneration()"
   ]
  },
  {
   "cell_type": "markdown",
   "metadata": {},
   "source": [
    "## Show masks"
   ]
  },
  {
   "cell_type": "code",
   "execution_count": null,
   "metadata": {},
   "outputs": [],
   "source": [
    "\n",
    "for num in test_list:\n",
    "    \n",
    "    try:\n",
    "        img_path = os.path.join(root_dir, f'ALLSTIMULI/{num}.jpg')\n",
    "        saliency_path = os.path.join(root_dir, f'ALLFIXATIONMAPS/{num}_fixMap.jpg')\n",
    "        text_path =  os.path.join(root_dir,  f'TEXT/gt_{num}.txt')\n",
    "\n",
    "        ori_img = Image.open(img_path).convert(\"RGB\")\n",
    "        saliency_gt = Image.open(saliency_path).convert(\"L\")\n",
    "\n",
    "        boxes = label.get_annotations(text_path)\n",
    "        text_mask = label.box2mask(ori_img,boxes)\n",
    "        text_gt = Image.fromarray(text_mask).convert(\"L\")\n",
    "\n",
    "        img = preprocess(ori_img).unsqueeze(0)\n",
    "\n",
    "        # run model\n",
    "        saliency_map, text_map = model(img)\n",
    "\n",
    "        # show mask\n",
    "        binary_text = text_map[0]>0.05\n",
    "        binary_text = binary_text.permute(1, 2, 0).detach().numpy()\n",
    "\n",
    "        binary_saliency = saliency_map[0]>0.5\n",
    "        binary_saliency = binary_saliency.permute(1, 2, 0).detach().numpy()\n",
    "\n",
    "        fig, axes = plt.subplots(1, 5, figsize=(10, 5))  # Adjust the figsize as needed\n",
    "\n",
    "        axes[0].imshow(ori_img,cmap=\"gray\")\n",
    "        axes[0].set_title('Ori Image')\n",
    "        axes[1].imshow(binary_text,cmap=\"gray\")\n",
    "        axes[1].set_title('Output Text Mask')\n",
    "        axes[2].imshow(text_gt,cmap=\"gray\")\n",
    "        axes[2].set_title('GT Text')\n",
    "        axes[3].imshow(binary_saliency,cmap=\"gray\")\n",
    "        axes[3].set_title('Output Saliency')\n",
    "        axes[4].imshow(saliency_gt,cmap=\"gray\")\n",
    "        axes[4].set_title('GT Saliency')\n",
    "\n",
    "        for ax in axes:\n",
    "            ax.axis('off')\n",
    "        plt.show()\n",
    "    \n",
    "    except Exception as e:\n",
    "        print(e)\n",
    "        pass"
   ]
  },
  {
   "cell_type": "markdown",
   "metadata": {},
   "source": [
    "## Show output boxes"
   ]
  },
  {
   "cell_type": "code",
   "execution_count": null,
   "metadata": {},
   "outputs": [],
   "source": [
    "img_path = os.path.join(root_dir, f'ALLSTIMULI/6.jpg')\n",
    "ori_img = Image.open(img_path).convert(\"RGB\")\n",
    "\n",
    "img = preprocess(ori_img).unsqueeze(0)\n",
    "# run model\n",
    "saliency_map, text_map = model(img)\n",
    "\n",
    "binary_text = text_map[0]>0.05\n",
    "binary_text = binary_text.permute(1, 2, 0).detach().numpy()\n",
    "\n",
    "# show boxes\n",
    "shrunk_map =label.shrunk_map(binary_text)\n",
    "boxes_batch, scores_batch = label.mask2box(ori_img,shrunk_map.reshape(224,224))\n",
    "out_img = label.draw_box(ori_img,boxes_batch)\n",
    "\n",
    "fig, axes = plt.subplots(1, 1, figsize=(10, 5))  # Adjust the figsize as needed\n",
    "\n",
    "axes.imshow(out_img,cmap=\"gray\")\n",
    "plt.show()\n"
   ]
  }
 ],
 "metadata": {
  "kernelspec": {
   "display_name": "salientText",
   "language": "python",
   "name": "salienttext"
  },
  "language_info": {
   "codemirror_mode": {
    "name": "ipython",
    "version": 3
   },
   "file_extension": ".py",
   "mimetype": "text/x-python",
   "name": "python",
   "nbconvert_exporter": "python",
   "pygments_lexer": "ipython3",
   "version": "3.9.0"
  },
  "varInspector": {
   "cols": {
    "lenName": 16,
    "lenType": 16,
    "lenVar": 40
   },
   "kernels_config": {
    "python": {
     "delete_cmd_postfix": "",
     "delete_cmd_prefix": "del ",
     "library": "var_list.py",
     "varRefreshCmd": "print(var_dic_list())"
    },
    "r": {
     "delete_cmd_postfix": ") ",
     "delete_cmd_prefix": "rm(",
     "library": "var_list.r",
     "varRefreshCmd": "cat(var_dic_list()) "
    }
   },
   "types_to_exclude": [
    "module",
    "function",
    "builtin_function_or_method",
    "instance",
    "_Feature"
   ],
   "window_display": false
  }
 },
 "nbformat": 4,
 "nbformat_minor": 2
}
